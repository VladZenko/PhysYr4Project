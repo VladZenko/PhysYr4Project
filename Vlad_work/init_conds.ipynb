{
 "cells": [
  {
   "cell_type": "code",
   "execution_count": 1,
   "metadata": {},
   "outputs": [
    {
     "name": "stderr",
     "output_type": "stream",
     "text": [
      "/Users/dmitryzenko/anaconda3/lib/python3.11/site-packages/py21cmfast/_cfg.py:57: UserWarning: Your configuration file is out of date. Updating...\n",
      "  warnings.warn(\n",
      "/Users/dmitryzenko/anaconda3/lib/python3.11/site-packages/py21cmfast/_cfg.py:41: UserWarning: Your configuration file is out of date. Updating...\n",
      "  warnings.warn(\"Your configuration file is out of date. Updating...\")\n"
     ]
    }
   ],
   "source": [
    "import py21cmfast as cm21\n",
    "import logging, sys, os\n",
    "import matplotlib.pyplot as plt\n",
    "from py21cmfast import cache_tools\n",
    "from py21cmfast import plotting"
   ]
  },
  {
   "cell_type": "code",
   "execution_count": 2,
   "metadata": {},
   "outputs": [],
   "source": [
    "# Generate a folder to store our initial conditions\n",
    "\n",
    "if not os.path.exists('_init_conds_cache'):\n",
    "        os.mkdir('_init_conds_cache')\n",
    "\n",
    "cm21.config['direc'] = '_init_conds_cache'\n",
    "\n",
    "\n",
    "def clear_conditions():\n",
    "    cache_tools.clear_cache(direc=\"_init_conds_cache\")"
   ]
  },
  {
   "cell_type": "markdown",
   "metadata": {},
   "source": [
    "Set up the initial conditions"
   ]
  },
  {
   "cell_type": "markdown",
   "metadata": {},
   "source": [
    "---"
   ]
  },
  {
   "cell_type": "code",
   "execution_count": 3,
   "metadata": {},
   "outputs": [
    {
     "name": "stderr",
     "output_type": "stream",
     "text": [
      "/Users/dmitryzenko/anaconda3/lib/python3.11/site-packages/py21cmfast/inputs.py:491: UserWarning: The USE_INTERPOLATION_TABLES setting has changed in v3.1.2 to be default True. You can likely ignore this warning, but if you relied onhaving USE_INTERPOLATION_TABLES=False by *default*, please set it explicitly. To silence this warning, set it explicitly to True. Thiswarning will be removed in v4.\n",
      "  warnings.warn(\n"
     ]
    }
   ],
   "source": [
    "HII_DIM = 500\n",
    "DIM = int(3*HII_DIM)\n",
    "\n",
    "init_cond = cm21.initial_conditions(\n",
    "    user_params = {\"DIM\": DIM ,\"HII_DIM\": HII_DIM, \"BOX_LEN\": 10},\n",
    "    cosmo_params = cm21.CosmoParams._defaults_,\n",
    "    random_seed=54321\n",
    ")"
   ]
  },
  {
   "cell_type": "code",
   "execution_count": null,
   "metadata": {},
   "outputs": [],
   "source": [
    "init_cond.save(fname='initial_conditions_folder/init_cond_DIM1500_10Mpc.h5')"
   ]
  },
  {
   "cell_type": "code",
   "execution_count": null,
   "metadata": {},
   "outputs": [],
   "source": []
  }
 ],
 "metadata": {
  "kernelspec": {
   "display_name": "base",
   "language": "python",
   "name": "python3"
  },
  "language_info": {
   "codemirror_mode": {
    "name": "ipython",
    "version": 3
   },
   "file_extension": ".py",
   "mimetype": "text/x-python",
   "name": "python",
   "nbconvert_exporter": "python",
   "pygments_lexer": "ipython3",
   "version": "3.11.5"
  },
  "orig_nbformat": 4
 },
 "nbformat": 4,
 "nbformat_minor": 2
}

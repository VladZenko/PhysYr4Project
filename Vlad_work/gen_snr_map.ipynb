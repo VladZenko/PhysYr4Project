{
 "cells": [
  {
   "cell_type": "code",
   "execution_count": 43,
   "metadata": {},
   "outputs": [],
   "source": [
    "import requests\n",
    "from bs4 import BeautifulSoup\n",
    "import re\n",
    "import numpy as np\n",
    "import random\n",
    "import matplotlib.pyplot as plt"
   ]
  },
  {
   "cell_type": "code",
   "execution_count": 44,
   "metadata": {},
   "outputs": [
    {
     "name": "stderr",
     "output_type": "stream",
     "text": [
      "/Users/dmitryzenko/miniconda3/envs/cm21fast/lib/python3.11/site-packages/urllib3/connectionpool.py:1061: InsecureRequestWarning: Unverified HTTPS request is being made to host 'www.mrao.cam.ac.uk'. Adding certificate verification is strongly advised. See: https://urllib3.readthedocs.io/en/1.26.x/advanced-usage.html#ssl-warnings\n",
      "  warnings.warn(\n"
     ]
    }
   ],
   "source": [
    "\n",
    "\n",
    "# Specify the URL\n",
    "url = 'https://www.mrao.cam.ac.uk/surveys/snrs/snrs.data.html'\n",
    "\n",
    "# Fetch the content from the URL\n",
    "response = requests.get(url, verify=False)\n",
    "content = response.content\n",
    "\n",
    "# Parse the content with BeautifulSoup\n",
    "soup = BeautifulSoup(content, 'html.parser')\n",
    "\n",
    "pre_tag = soup.find('pre')\n",
    "\n",
    "pre_contents = pre_tag.text"
   ]
  },
  {
   "cell_type": "code",
   "execution_count": 45,
   "metadata": {},
   "outputs": [],
   "source": [
    "lines = pre_contents.strip().split(\"\\n\")\n",
    "lines = [element for element in lines if element]\n",
    "lines_val = lines[4:-1]"
   ]
  },
  {
   "cell_type": "code",
   "execution_count": 46,
   "metadata": {},
   "outputs": [
    {
     "name": "stdout",
     "output_type": "stream",
     "text": [
      "   0.0  +0.0  17 45 44  -29 00  3.5x2.5  S     100?     0.8?     Sgr A East\n"
     ]
    }
   ],
   "source": [
    "print(lines_val[0])"
   ]
  },
  {
   "cell_type": "code",
   "execution_count": 47,
   "metadata": {},
   "outputs": [
    {
     "name": "stdout",
     "output_type": "stream",
     "text": [
      "12.498431001065951\n",
      "11.214603133830998\n"
     ]
    }
   ],
   "source": [
    "dist_max = 10185.42355352\n",
    "dist_min = 9132.09022019\n",
    "\n",
    "box_len = 2000\n",
    "\n",
    "theta_max = np.arctan((box_len/2)/dist_max)\n",
    "theta_min = np.arctan((box_len/2)/dist_min)\n",
    "\n",
    "angle_max = 2 * (theta_max*180/np.pi)\n",
    "angle_min = 2 * (theta_min*180/np.pi)\n",
    "\n",
    "print(angle_min)\n",
    "print(angle_max)"
   ]
  },
  {
   "cell_type": "code",
   "execution_count": 48,
   "metadata": {},
   "outputs": [
    {
     "data": {
      "text/plain": [
       "8"
      ]
     },
     "execution_count": 48,
     "metadata": {},
     "output_type": "execute_result"
    }
   ],
   "source": [
    "snr_in_5x5 = 1.5\n",
    "\n",
    "snr_in_angle = int(np.round((snr_in_5x5/25)*angle_max**2))\n",
    "snr_in_angle"
   ]
  },
  {
   "cell_type": "code",
   "execution_count": 49,
   "metadata": {},
   "outputs": [
    {
     "data": {
      "text/plain": [
       "[(650, 958),\n",
       " (1431, 363),\n",
       " (1540, 560),\n",
       " (1199, 1425),\n",
       " (1640, 216),\n",
       " (1032, 650),\n",
       " (391, 1232),\n",
       " (1227, 1467)]"
      ]
     },
     "execution_count": 49,
     "metadata": {},
     "output_type": "execute_result"
    }
   ],
   "source": [
    "grid = 2000\n",
    "\n",
    "canvas = np.zeros((grid, grid))\n",
    "\n",
    "random_points = [(random.randint(0, grid-1), random.randint(0, grid-1)) for _ in range(snr_in_angle)]\n",
    "random_points"
   ]
  },
  {
   "cell_type": "code",
   "execution_count": 50,
   "metadata": {},
   "outputs": [
    {
     "data": {
      "text/plain": [
       "303"
      ]
     },
     "execution_count": 50,
     "metadata": {},
     "output_type": "execute_result"
    }
   ],
   "source": [
    "amnt_of_samples = len(lines_val) # amount of specimen\n",
    "amnt_of_samples"
   ]
  },
  {
   "cell_type": "code",
   "execution_count": 51,
   "metadata": {},
   "outputs": [
    {
     "data": {
      "text/plain": [
       "[142, 162, 83, 21, 238, 85, 103, 60]"
      ]
     },
     "execution_count": 51,
     "metadata": {},
     "output_type": "execute_result"
    }
   ],
   "source": [
    "sample_idx = [random.randint(0, 302) for _ in range(snr_in_angle)]\n",
    "sample_idx"
   ]
  },
  {
   "cell_type": "code",
   "execution_count": 52,
   "metadata": {},
   "outputs": [
    {
     "name": "stdout",
     "output_type": "stream",
     "text": [
      "  94.0  +1.0  21 24 50  +51 53   30x25   S      13      0.45     3C434.1\n",
      "['94.0', '+1.0', '21 24 50', '+51 53', '30x25', 'S', '13', '0.45', '3C434.1']\n",
      " 159.6  +7.3  05 20 00  +50 00  240x180? S       ?      ?\n",
      "[' 159.6', '+7.3', '05 20 00', '+50 00', '240x180', 'S', '', '']\n",
      "  31.5  -0.6  18 51 10  -01 31    18?    S?      2?     ?\n",
      "['31.5', '-0.6', '18 51 10', '-01 31', '18', 'S', '2', '']\n",
      "   7.0  -0.1  18 01 50  -22 54    15     S       2.5?   0.5?\n",
      "['7.0', '-0.1', '18 01 50', '-22 54', '15', 'S', '2.5', '0.5']\n",
      " 329.7  +0.4  16 01 20  -52 18   40x33   S     >34?     ?\n",
      "[' 329.7', '+0.4', '16 01 20', '-52 18', '40x33', 'S', '>34', '']\n",
      "  32.0  -4.9  19 06 00  -03 00    60?    S?     22?     0.5?     3C396.1\n",
      "['32.0', '-4.9', '19 06 00', '-03 00', '60', 'S', '22', '0.5', '3C396.1']\n",
      "  43.3  -0.2  19 11 08  +09 06    4x3    S      38      0.46     W49B\n",
      "['43.3', '-0.2', '19 11 08', '+09 06', '4x3', 'S', '38', '0.46', 'W49B']\n",
      "  18.9  -1.1  18 29 50  -12 58    33     C?     37      0.39\n",
      "['18.9', '-1.1', '18 29 50', '-12 58', '33', 'C', '37', '0.39']\n"
     ]
    }
   ],
   "source": [
    "a_values_list = []\n",
    "b_values_list = []\n",
    "flux_values_list = []\n",
    "spectral_idx = []\n",
    "\n",
    "for i in sample_idx:\n",
    "\n",
    "    test_line = lines_val[i]\n",
    "    print(test_line)\n",
    "    '''if '?' in test_line:\n",
    "        test_line = test_line.replace('?','')'''\n",
    "    \n",
    "\n",
    "\n",
    "    columns = re.split(r' {2,}| (?=[+ - S F C])', test_line)\n",
    "    if columns[0]=='':\n",
    "            columns.remove(columns[0])\n",
    "    if columns[5]=='?':\n",
    "            columns[5] = 'S'\n",
    "\n",
    "    columns = [s.replace('?', '') for s in columns]\n",
    "    print(columns)\n",
    "\n",
    "    ang_size = columns[4] \n",
    "    flux = columns[6]\n",
    "    spctrl_idx = columns[7]\n",
    "    \n",
    "    if spctrl_idx.strip() == '' or spctrl_idx.strip() == 'varies':\n",
    "            spctrl_idx = 0.5 # random value, can be substituted by mean/mode value from the column\n",
    "\n",
    "    if '>' in flux:\n",
    "        flux = flux.replace('>','')\n",
    "    if flux.strip() == '':\n",
    "            flux = 7 # random value, can be substituted by mean/mode value from the column\n",
    "    \n",
    "    \n",
    "\n",
    "    if 'x' in ang_size:\n",
    "        a = float(ang_size.split('x')[0])\n",
    "        b = float(ang_size.split('x')[1])\n",
    "    else:\n",
    "        r = float(ang_size)\n",
    "        a = r\n",
    "        b = r\n",
    "\n",
    "    a_values_list.append(a/2)\n",
    "    b_values_list.append(b/2)\n",
    "    flux_values_list.append(float(flux))\n",
    "    spectral_idx.append(float(spctrl_idx))"
   ]
  },
  {
   "cell_type": "code",
   "execution_count": 53,
   "metadata": {},
   "outputs": [
    {
     "name": "stdout",
     "output_type": "stream",
     "text": [
      "[15.0, 120.0, 9.0, 7.5, 20.0, 30.0, 2.0, 16.5]\n",
      "[12.5, 90.0, 9.0, 7.5, 16.5, 30.0, 1.5, 16.5]\n",
      "[13.0, 7.0, 2.0, 2.5, 34.0, 22.0, 38.0, 37.0]\n",
      "[0.45, 0.5, 0.5, 0.5, 0.5, 0.5, 0.46, 0.39]\n"
     ]
    }
   ],
   "source": [
    "print(a_values_list)\n",
    "print(b_values_list)\n",
    "print(flux_values_list)\n",
    "print(spectral_idx)"
   ]
  },
  {
   "cell_type": "code",
   "execution_count": 54,
   "metadata": {},
   "outputs": [
    {
     "name": "stdout",
     "output_type": "stream",
     "text": [
      "[0.45 0.5  0.5  0.5  0.5  0.5  0.46 0.39]\n",
      "[13.   7.   2.   2.5 34.  22.  38.  37. ]\n",
      "[ 5.663263    2.78050715  0.79443061  0.99303827 13.50532043  8.73873675\n",
      " 16.25127706 18.00702573]\n"
     ]
    }
   ],
   "source": [
    "nu_ref = float(1000) # 1 GHz to MHz\n",
    "freq = 157.78 # MHz\n",
    "\n",
    "spctrl_idx_array = np.array(spectral_idx, dtype=float)\n",
    "flux_values_list_array = np.array(flux_values_list, dtype=float)\n",
    "\n",
    "F_at_freq = flux_values_list_array*((freq/nu_ref)**spctrl_idx_array)\n",
    "\n",
    "print(spctrl_idx_array)\n",
    "print(flux_values_list_array)\n",
    "print(F_at_freq)"
   ]
  },
  {
   "attachments": {
    "image.png": {
     "image/png": "[encoded data removed]"
    }
   },
   "cell_type": "markdown",
   "metadata": {},
   "source": [
    "![image.png](attachment:image.png)"
   ]
  },
  {
   "cell_type": "markdown",
   "metadata": {},
   "source": [
    "https://www.atnf.csiro.au/people/Tobias.Westmeier/tools_hihelpers.php"
   ]
  },
  {
   "cell_type": "code",
   "execution_count": 55,
   "metadata": {},
   "outputs": [],
   "source": [
    "def flux_to_brghtnss_temp(freq, flux):\n",
    "\n",
    "    freq_hz = freq * 10**6 # Hz\n",
    "    c0 = 299792458 # m/s\n",
    "    flux_mJy = flux * 10**3 # mJy\n",
    "    Theta = 3 * 60 # arcsec, FoV of the instrument not from the BOX_LEN!!!\n",
    "                   # Take as 3 arcmin\n",
    "\n",
    "    lmbda = (c0/freq_hz) * 10**2 # cm\n",
    "    S_nu = flux_mJy\n",
    "\n",
    "    #print(lmbda)\n",
    "\n",
    "    T = 1.360 * lmbda**2 * S_nu * (Theta**2)**(-1) # in K\n",
    "\n",
    "\n",
    "    return T"
   ]
  },
  {
   "cell_type": "code",
   "execution_count": 56,
   "metadata": {},
   "outputs": [
    {
     "name": "stdout",
     "output_type": "stream",
     "text": [
      "[ 8582.19011977  4213.62048228  1203.89156637  1504.86445796\n",
      " 20466.15662824 13242.80723004 24627.41875266 27288.10552253]\n"
     ]
    }
   ],
   "source": [
    "T = flux_to_brghtnss_temp(freq, F_at_freq)\n",
    "print(T)"
   ]
  },
  {
   "cell_type": "code",
   "execution_count": 57,
   "metadata": {},
   "outputs": [
    {
     "data": {
      "image/png": "[encoded data removed]",
      "text/plain": [
       "<Figure size 640x480 with 2 Axes>"
      ]
     },
     "metadata": {},
     "output_type": "display_data"
    }
   ],
   "source": [
    "def draw_multiple_ellipses_on_grid(coordinates, a_values, b_values, angle_max, grid_size):\n",
    "\n",
    "    canvas_angular_size_arcminutes = angle_max * 60\n",
    "\n",
    "    # Scale factor: number of pixels per arcminute\n",
    "    scale_factor = grid_size / canvas_angular_size_arcminutes\n",
    "\n",
    "    grid = np.zeros((grid_size, grid_size))\n",
    "\n",
    "    for (center_x, center_y), a, b in zip(coordinates, a_values, b_values):\n",
    "        # Convert ellipse dimensions to grid units\n",
    "        semi_major_axis_pixels = int(round(a * scale_factor))\n",
    "        semi_minor_axis_pixels = int(round(b * scale_factor))\n",
    "\n",
    "        # Calculate the range for the ellipse in both x and y directions\n",
    "        x_range = np.arange(center_x - semi_minor_axis_pixels, center_x + semi_minor_axis_pixels + 1)\n",
    "        y_range = np.arange(center_y - semi_major_axis_pixels, center_y + semi_major_axis_pixels + 1)\n",
    "\n",
    "        # Ensure the ranges are within the grid boundaries\n",
    "        x_range = x_range[(x_range >= 0) & (x_range < grid_size)]\n",
    "        y_range = y_range[(y_range >= 0) & (y_range < grid_size)]\n",
    "\n",
    "        # Fill pixels within the ellipse\n",
    "        for x_pixel in x_range:\n",
    "            for y_pixel in y_range:\n",
    "                if ((x_pixel - center_x)**2 / semi_minor_axis_pixels**2 + \n",
    "                    (y_pixel - center_y)**2 / semi_major_axis_pixels**2) <= 1:\n",
    "                    grid[y_pixel, x_pixel] = 1\n",
    "\n",
    "    return grid\n",
    "\n",
    "# Example usage with a list of coordinates and corresponding dimensions\n",
    "coordinates_list = random_points\n",
    "\n",
    "\n",
    "# Draw the ellipses\n",
    "multiple_ellipse_grid = draw_multiple_ellipses_on_grid(random_points, a_values_list, b_values_list, angle_max, grid)\n",
    "\n",
    "\n",
    "# Plotting\n",
    "plt.imshow(multiple_ellipse_grid, cmap='gray')\n",
    "plt.colorbar()\n",
    "plt.show()"
   ]
  },
  {
   "cell_type": "code",
   "execution_count": null,
   "metadata": {},
   "outputs": [],
   "source": []
  }
 ],
 "metadata": {
  "kernelspec": {
   "display_name": "cm21fast",
   "language": "python",
   "name": "python3"
  },
  "language_info": {
   "codemirror_mode": {
    "name": "ipython",
    "version": 3
   },
   "file_extension": ".py",
   "mimetype": "text/x-python",
   "name": "python",
   "nbconvert_exporter": "python",
   "pygments_lexer": "ipython3",
   "version": "3.11.6"
  },
  "orig_nbformat": 4
 },
 "nbformat": 4,
 "nbformat_minor": 2
}

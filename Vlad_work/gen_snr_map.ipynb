{
 "cells": [
  {
   "cell_type": "code",
   "execution_count": 522,
   "metadata": {},
   "outputs": [],
   "source": [
    "import requests\n",
    "from bs4 import BeautifulSoup\n",
    "import re\n",
    "import numpy as np\n",
    "import random\n",
    "import matplotlib.pyplot as plt"
   ]
  },
  {
   "cell_type": "code",
   "execution_count": 523,
   "metadata": {},
   "outputs": [
    {
     "name": "stderr",
     "output_type": "stream",
     "text": [
      "/Users/dmitryzenko/miniconda3/envs/cm21fast/lib/python3.11/site-packages/urllib3/connectionpool.py:1061: InsecureRequestWarning: Unverified HTTPS request is being made to host 'www.mrao.cam.ac.uk'. Adding certificate verification is strongly advised. See: https://urllib3.readthedocs.io/en/1.26.x/advanced-usage.html#ssl-warnings\n",
      "  warnings.warn(\n"
     ]
    }
   ],
   "source": [
    "\n",
    "\n",
    "# Specify the URL\n",
    "url = 'https://www.mrao.cam.ac.uk/surveys/snrs/snrs.data.html'\n",
    "\n",
    "# Fetch the content from the URL\n",
    "response = requests.get(url, verify=False)\n",
    "content = response.content\n",
    "\n",
    "# Parse the content with BeautifulSoup\n",
    "soup = BeautifulSoup(content, 'html.parser')\n",
    "\n",
    "pre_tag = soup.find('pre')\n",
    "\n",
    "pre_contents = pre_tag.text"
   ]
  },
  {
   "cell_type": "code",
   "execution_count": 524,
   "metadata": {},
   "outputs": [],
   "source": [
    "lines = pre_contents.strip().split(\"\\n\")\n",
    "lines = [element for element in lines if element]\n",
    "lines_val = lines[4:-1]"
   ]
  },
  {
   "cell_type": "code",
   "execution_count": 525,
   "metadata": {},
   "outputs": [
    {
     "name": "stdout",
     "output_type": "stream",
     "text": [
      "   0.0  +0.0  17 45 44  -29 00  3.5x2.5  S     100?     0.8?     Sgr A East\n"
     ]
    }
   ],
   "source": [
    "print(lines_val[0])"
   ]
  },
  {
   "cell_type": "code",
   "execution_count": 526,
   "metadata": {},
   "outputs": [
    {
     "name": "stdout",
     "output_type": "stream",
     "text": [
      "12.498431001065951\n",
      "11.214603133830998\n"
     ]
    }
   ],
   "source": [
    "dist_max = 10185.42355352\n",
    "dist_min = 9132.09022019\n",
    "\n",
    "box_len = 2000\n",
    "\n",
    "theta_max = np.arctan((box_len/2)/dist_max)\n",
    "theta_min = np.arctan((box_len/2)/dist_min)\n",
    "\n",
    "angle_max = 2 * (theta_max*180/np.pi)\n",
    "angle_min = 2 * (theta_min*180/np.pi)\n",
    "\n",
    "print(angle_min)\n",
    "print(angle_max)"
   ]
  },
  {
   "cell_type": "code",
   "execution_count": 527,
   "metadata": {},
   "outputs": [
    {
     "data": {
      "text/plain": [
       "8"
      ]
     },
     "execution_count": 527,
     "metadata": {},
     "output_type": "execute_result"
    }
   ],
   "source": [
    "snr_in_5x5 = 1.5\n",
    "\n",
    "snr_in_angle = int(np.round((snr_in_5x5/25)*angle_max**2))\n",
    "snr_in_angle"
   ]
  },
  {
   "cell_type": "code",
   "execution_count": 528,
   "metadata": {},
   "outputs": [
    {
     "data": {
      "text/plain": [
       "[(266, 784),\n",
       " (1497, 1654),\n",
       " (543, 1852),\n",
       " (397, 1830),\n",
       " (437, 1888),\n",
       " (338, 1063),\n",
       " (479, 1065),\n",
       " (971, 1109)]"
      ]
     },
     "execution_count": 528,
     "metadata": {},
     "output_type": "execute_result"
    }
   ],
   "source": [
    "grid = 2000\n",
    "\n",
    "canvas = np.zeros((grid, grid))\n",
    "\n",
    "random_points = [(random.randint(0, grid-1), random.randint(0, grid-1)) for _ in range(snr_in_angle)]\n",
    "random_points"
   ]
  },
  {
   "cell_type": "code",
   "execution_count": 529,
   "metadata": {},
   "outputs": [
    {
     "data": {
      "text/plain": [
       "303"
      ]
     },
     "execution_count": 529,
     "metadata": {},
     "output_type": "execute_result"
    }
   ],
   "source": [
    "amnt_of_samples = len(lines_val) # amount of specimen\n",
    "amnt_of_samples"
   ]
  },
  {
   "cell_type": "code",
   "execution_count": 530,
   "metadata": {},
   "outputs": [
    {
     "data": {
      "text/plain": [
       "[56, 174, 112, 89, 250, 278, 60, 58]"
      ]
     },
     "execution_count": 530,
     "metadata": {},
     "output_type": "execute_result"
    }
   ],
   "source": [
    "sample_idx = [random.randint(0, 302) for _ in range(snr_in_angle)]\n",
    "sample_idx"
   ]
  },
  {
   "cell_type": "code",
   "execution_count": 531,
   "metadata": {},
   "outputs": [
    {
     "name": "stdout",
     "output_type": "stream",
     "text": [
      "  17.8  -2.6  18 32 50  -14 39    24     S       5      0.5\n",
      "['17.8', '-2.6', '18 32 50', '-14 39', '24', 'S', '5', '0.5']\n",
      " 206.9  +2.3  06 48 40  +06 26   60x40   S?      6      0.5      PKS 0646+06\n",
      "[' 206.9', '+2.3', '06 48 40', '+06 26', '60x40', 'S', '6', '0.5', 'PKS 0646+06']\n",
      "  55.0  +0.3  19 32 00  +19 50   20x15?  S       0.5?   0.5?\n",
      "['55.0', '+0.3', '19 32 00', '+19 50', '20x15', 'S', '0.5', '0.5']\n",
      "  33.2  -0.6  18 53 50  -00 02    18     S       3.5    varies\n",
      "['33.2', '-0.6', '18 53 50', '-00 02', '18', 'S', '3.5', 'varies']\n",
      " 337.3  +1.0  16 32 39  -46 36   15x12   S      16      0.55     Kes 40\n",
      "[' 337.3', '+1.0', '16 32 39', '-46 36', '15x12', 'S', '16', '0.55', 'Kes 40']\n",
      " 351.0  -5.4  17 46 00  -39 25    30     S       ?      ?\n",
      "[' 351.0', '-5.4', '17 46 00', '-39 25', '30', 'S', '', '']\n",
      "  18.9  -1.1  18 29 50  -12 58    33     C?     37      0.39\n",
      "['18.9', '-1.1', '18 29 50', '-12 58', '33', 'C', '37', '0.39']\n",
      "  18.6  -0.2  18 25 55  -12 50     6     S       1.4    0.4\n",
      "['18.6', '-0.2', '18 25 55', '-12 50', '6', 'S', '1.4', '0.4']\n"
     ]
    }
   ],
   "source": [
    "a_values_list = []\n",
    "b_values_list = []\n",
    "flux_values_list = []\n",
    "spectral_idx = []\n",
    "\n",
    "for i in sample_idx:\n",
    "\n",
    "    test_line = lines_val[i]\n",
    "    print(test_line)\n",
    "    '''if '?' in test_line:\n",
    "        test_line = test_line.replace('?','')'''\n",
    "    \n",
    "\n",
    "\n",
    "    columns = re.split(r' {2,}| (?=[+ - S F C])', test_line)\n",
    "    if columns[0]=='':\n",
    "            columns.remove(columns[0])\n",
    "    if columns[5]=='?':\n",
    "            columns[5] = 'S'\n",
    "\n",
    "    columns = [s.replace('?', '') for s in columns]\n",
    "    print(columns)\n",
    "\n",
    "    ang_size = columns[4] \n",
    "    flux = columns[6]\n",
    "    spctrl_idx = columns[7]\n",
    "    \n",
    "    if spctrl_idx.strip() == '' or spctrl_idx.strip() == 'varies':\n",
    "            spctrl_idx = 0.5 # random value, can be substituted by mean/mode value from the column\n",
    "\n",
    "    if '>' in flux:\n",
    "        flux = flux.replace('>','')\n",
    "    if flux.strip() == '':\n",
    "            flux = 7 # random value, can be substituted by mean/mode value from the column\n",
    "    \n",
    "    \n",
    "\n",
    "    if 'x' in ang_size:\n",
    "        a = float(ang_size.split('x')[0])\n",
    "        b = float(ang_size.split('x')[1])\n",
    "    else:\n",
    "        r = float(ang_size)\n",
    "        a = r\n",
    "        b = r\n",
    "\n",
    "    a_values_list.append(a/2)\n",
    "    b_values_list.append(b/2)\n",
    "    flux_values_list.append(float(flux))\n",
    "    spectral_idx.append(float(spctrl_idx))"
   ]
  },
  {
   "cell_type": "code",
   "execution_count": 532,
   "metadata": {},
   "outputs": [
    {
     "name": "stdout",
     "output_type": "stream",
     "text": [
      "[12.0, 30.0, 10.0, 9.0, 7.5, 15.0, 16.5, 3.0]\n",
      "[12.0, 20.0, 7.5, 9.0, 6.0, 15.0, 16.5, 3.0]\n",
      "[5.0, 6.0, 0.5, 3.5, 16.0, 7.0, 37.0, 1.4]\n",
      "[0.5, 0.5, 0.5, 0.5, 0.55, 0.5, 0.39, 0.4]\n"
     ]
    }
   ],
   "source": [
    "print(a_values_list)\n",
    "print(b_values_list)\n",
    "print(flux_values_list)\n",
    "print(spectral_idx)"
   ]
  },
  {
   "cell_type": "code",
   "execution_count": 533,
   "metadata": {},
   "outputs": [
    {
     "name": "stdout",
     "output_type": "stream",
     "text": [
      "[0.5  0.5  0.5  0.5  0.55 0.5  0.39 0.4 ]\n",
      "[ 5.   6.   0.5  3.5 16.   7.  37.   1.4]\n",
      "[ 1.98607653  2.38329184  0.19860765  1.39025357  5.79493483  2.78050715\n",
      " 18.00702573  0.66888093]\n"
     ]
    }
   ],
   "source": [
    "nu_ref = float(1000) # 1 GHz to MHz\n",
    "freq = 157.78 # MHz\n",
    "\n",
    "spctrl_idx_array = np.array(spectral_idx, dtype=float)\n",
    "flux_values_list_array = np.array(flux_values_list, dtype=float)\n",
    "\n",
    "F_at_freq = flux_values_list_array*((freq/nu_ref)**spctrl_idx_array)\n",
    "#F_at_freq = flux_values_list_array/((nu_ref/freq)**spctrl_idx_array)\n",
    "\n",
    "print(spctrl_idx_array)\n",
    "print(flux_values_list_array)\n",
    "print(F_at_freq)"
   ]
  },
  {
   "attachments": {
    "image.png": {
     "image/png": "[encoded data removed]"
    }
   },
   "cell_type": "markdown",
   "metadata": {},
   "source": [
    "![image.png](attachment:image.png)"
   ]
  },
  {
   "cell_type": "markdown",
   "metadata": {},
   "source": [
    "https://www.atnf.csiro.au/people/Tobias.Westmeier/tools_hihelpers.php"
   ]
  },
  {
   "cell_type": "code",
   "execution_count": 534,
   "metadata": {},
   "outputs": [],
   "source": [
    "def flux_to_brghtnss_temp(freq, flux):\n",
    "\n",
    "    freq_hz = freq * 10**6 # Hz\n",
    "    c0 = 299792458 # m/s\n",
    "    flux_mJy = flux * 10**3 # mJy\n",
    "    Theta = 3 * 60 # arcsec, FoV of the instrument not from the BOX_LEN!!!\n",
    "    #Theta = 12 * 60 * 60\n",
    "\n",
    "\n",
    "    lmbda = (c0/freq_hz) * 10**2 # cm\n",
    "    S_nu = flux_mJy\n",
    "\n",
    "    #print(lmbda)\n",
    "\n",
    "    T = 1.360 * lmbda**2 * S_nu * (Theta**2)**(-1) # in K\n",
    "\n",
    "\n",
    "    return T\n",
    "\n",
    "\n",
    "def flux_to_brghtnss_temp_Emma(freq, flux):\n",
    "\n",
    "    c0 = 299792458 # m/s\n",
    "    k_b = 1.38e-23\n",
    "    FWHM_arcmin = 3.0\n",
    "    FWHM = (FWHM_arcmin/60.0)*(np.pi/180.0)\n",
    "    beamarea = np.pi * FWHM**2 / (4.0*np.log(2)) # beam solid angle of Gaussian beam\n",
    "\n",
    "    T = flux *1e-26*(c0/(freq*1.0e6))**2*(1.0/(2.0*k_b*beamarea))\n",
    "\n",
    "\n",
    "    return T"
   ]
  },
  {
   "cell_type": "code",
   "execution_count": 535,
   "metadata": {},
   "outputs": [
    {
     "name": "stdout",
     "output_type": "stream",
     "text": [
      "[ 3010.68442848  3612.82131417   301.06844285  2107.47909994\n",
      "  8784.51547572  4214.95819987 27296.76880362  1013.95357907]\n"
     ]
    }
   ],
   "source": [
    "T = flux_to_brghtnss_temp_Emma(freq, F_at_freq)\n",
    "print(T)"
   ]
  },
  {
   "cell_type": "code",
   "execution_count": 536,
   "metadata": {},
   "outputs": [
    {
     "name": "stdout",
     "output_type": "stream",
     "text": [
      "[ 3009.72891592  3611.6746991    300.97289159  2106.81024114\n",
      "  8781.72750007  4213.62048228 27288.10552253  1013.6317767 ]\n"
     ]
    }
   ],
   "source": [
    "T = flux_to_brghtnss_temp(freq, F_at_freq)\n",
    "print(T)"
   ]
  },
  {
   "cell_type": "code",
   "execution_count": 537,
   "metadata": {},
   "outputs": [
    {
     "data": {
      "text/plain": [
       "\"def draw_multiple_ellipses_on_grid(coordinates, a_values, b_values, angle_max, grid_size):\\n\\n    canvas_angular_size_arcminutes = angle_max * 60\\n\\n    # Scale factor: number of pixels per arcminute\\n    scale_factor = grid_size / canvas_angular_size_arcminutes\\n\\n    grid = np.zeros((grid_size, grid_size))\\n\\n    for (center_x, center_y), a, b in zip(coordinates, a_values, b_values):\\n        # Convert ellipse dimensions to grid units\\n        semi_major_axis_pixels = int(round(a * scale_factor))\\n        semi_minor_axis_pixels = int(round(b * scale_factor))\\n\\n        # Calculate the range for the ellipse in both x and y directions\\n        x_range = np.arange(center_x - semi_minor_axis_pixels, center_x + semi_minor_axis_pixels + 1)\\n        y_range = np.arange(center_y - semi_major_axis_pixels, center_y + semi_major_axis_pixels + 1)\\n\\n        # Ensure the ranges are within the grid boundaries\\n        x_range = x_range[(x_range >= 0) & (x_range < grid_size)]\\n        y_range = y_range[(y_range >= 0) & (y_range < grid_size)]\\n\\n        # Fill pixels within the ellipse\\n        for x_pixel in x_range:\\n            for y_pixel in y_range:\\n                if ((x_pixel - center_x)**2 / semi_minor_axis_pixels**2 + \\n                    (y_pixel - center_y)**2 / semi_major_axis_pixels**2) <= 1:\\n                    grid[y_pixel, x_pixel] = 1\\n\\n    return grid\\n\\n# Example usage with a list of coordinates and corresponding dimensions\\ncoordinates_list = random_points\\n\\n\\n# Draw the ellipses\\nmultiple_ellipse_grid = draw_multiple_ellipses_on_grid(random_points, a_values_list, b_values_list, angle_max, grid)\\n\\n\\n# Plotting\\nplt.imshow(multiple_ellipse_grid, cmap='gray')\\nplt.colorbar()\\nplt.show()\""
      ]
     },
     "execution_count": 537,
     "metadata": {},
     "output_type": "execute_result"
    }
   ],
   "source": [
    "'''def draw_multiple_ellipses_on_grid(coordinates, a_values, b_values, angle_max, grid_size):\n",
    "\n",
    "    canvas_angular_size_arcminutes = angle_max * 60\n",
    "\n",
    "    # Scale factor: number of pixels per arcminute\n",
    "    scale_factor = grid_size / canvas_angular_size_arcminutes\n",
    "\n",
    "    grid = np.zeros((grid_size, grid_size))\n",
    "\n",
    "    for (center_x, center_y), a, b in zip(coordinates, a_values, b_values):\n",
    "        # Convert ellipse dimensions to grid units\n",
    "        semi_major_axis_pixels = int(round(a * scale_factor))\n",
    "        semi_minor_axis_pixels = int(round(b * scale_factor))\n",
    "\n",
    "        # Calculate the range for the ellipse in both x and y directions\n",
    "        x_range = np.arange(center_x - semi_minor_axis_pixels, center_x + semi_minor_axis_pixels + 1)\n",
    "        y_range = np.arange(center_y - semi_major_axis_pixels, center_y + semi_major_axis_pixels + 1)\n",
    "\n",
    "        # Ensure the ranges are within the grid boundaries\n",
    "        x_range = x_range[(x_range >= 0) & (x_range < grid_size)]\n",
    "        y_range = y_range[(y_range >= 0) & (y_range < grid_size)]\n",
    "\n",
    "        # Fill pixels within the ellipse\n",
    "        for x_pixel in x_range:\n",
    "            for y_pixel in y_range:\n",
    "                if ((x_pixel - center_x)**2 / semi_minor_axis_pixels**2 + \n",
    "                    (y_pixel - center_y)**2 / semi_major_axis_pixels**2) <= 1:\n",
    "                    grid[y_pixel, x_pixel] = 1\n",
    "\n",
    "    return grid\n",
    "\n",
    "# Example usage with a list of coordinates and corresponding dimensions\n",
    "coordinates_list = random_points\n",
    "\n",
    "\n",
    "# Draw the ellipses\n",
    "multiple_ellipse_grid = draw_multiple_ellipses_on_grid(random_points, a_values_list, b_values_list, angle_max, grid)\n",
    "\n",
    "\n",
    "# Plotting\n",
    "plt.imshow(multiple_ellipse_grid, cmap='gray')\n",
    "plt.colorbar()\n",
    "plt.show()'''"
   ]
  },
  {
   "cell_type": "code",
   "execution_count": null,
   "metadata": {},
   "outputs": [],
   "source": []
  }
 ],
 "metadata": {
  "kernelspec": {
   "display_name": "cm21fast",
   "language": "python",
   "name": "python3"
  },
  "language_info": {
   "codemirror_mode": {
    "name": "ipython",
    "version": 3
   },
   "file_extension": ".py",
   "mimetype": "text/x-python",
   "name": "python",
   "nbconvert_exporter": "python",
   "pygments_lexer": "ipython3",
   "version": "3.11.6"
  },
  "orig_nbformat": 4
 },
 "nbformat": 4,
 "nbformat_minor": 2
}

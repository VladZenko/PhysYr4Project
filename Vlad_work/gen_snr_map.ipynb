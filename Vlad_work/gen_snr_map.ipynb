{
 "cells": [
  {
   "cell_type": "code",
   "execution_count": 240,
   "metadata": {},
   "outputs": [],
   "source": [
    "import requests\n",
    "from bs4 import BeautifulSoup\n",
    "import re\n",
    "import numpy as np\n",
    "import random\n",
    "import matplotlib.pyplot as plt"
   ]
  },
  {
   "cell_type": "code",
   "execution_count": 241,
   "metadata": {},
   "outputs": [
    {
     "name": "stderr",
     "output_type": "stream",
     "text": [
      "/Users/dmitryzenko/miniconda3/envs/cm21fast/lib/python3.11/site-packages/urllib3/connectionpool.py:1061: InsecureRequestWarning: Unverified HTTPS request is being made to host 'www.mrao.cam.ac.uk'. Adding certificate verification is strongly advised. See: https://urllib3.readthedocs.io/en/1.26.x/advanced-usage.html#ssl-warnings\n",
      "  warnings.warn(\n"
     ]
    }
   ],
   "source": [
    "import requests\n",
    "from bs4 import BeautifulSoup\n",
    "import re\n",
    "\n",
    "# Specify the URL\n",
    "url = 'https://www.mrao.cam.ac.uk/surveys/snrs/snrs.data.html'\n",
    "\n",
    "# Fetch the content from the URL\n",
    "response = requests.get(url, verify=False)\n",
    "content = response.content\n",
    "\n",
    "# Parse the content with BeautifulSoup\n",
    "soup = BeautifulSoup(content, 'html.parser')\n",
    "\n",
    "pre_tag = soup.find('pre')\n",
    "\n",
    "pre_contents = pre_tag.text\n",
    "\n"
   ]
  },
  {
   "cell_type": "code",
   "execution_count": 242,
   "metadata": {},
   "outputs": [],
   "source": [
    "lines = pre_contents.strip().split(\"\\n\")\n",
    "lines = [element for element in lines if element]\n",
    "\n",
    "lines_val = lines[4:-1]"
   ]
  },
  {
   "cell_type": "code",
   "execution_count": 243,
   "metadata": {},
   "outputs": [
    {
     "data": {
      "text/plain": [
       "\"spectral_idx = []\\n\\n# Process each line\\nfor line in lines[4:-1]:  # skipping the header line\\n    \\n    columns = re.split(r' {2,}', line) \\n    #spectral_idx.append(columns[8])\\n    if columns[0]=='':\\n        columns.remove(columns[0])\\n    \\n    if len(columns)==9:\\n        columns.remove(columns[-1])\\n    \\n    spectral_idx.append(columns[-1])\""
      ]
     },
     "execution_count": 243,
     "metadata": {},
     "output_type": "execute_result"
    }
   ],
   "source": [
    "'''spectral_idx = []\n",
    "\n",
    "# Process each line\n",
    "for line in lines[4:-1]:  # skipping the header line\n",
    "    \n",
    "    columns = re.split(r' {2,}', line) \n",
    "    #spectral_idx.append(columns[8])\n",
    "    if columns[0]=='':\n",
    "        columns.remove(columns[0])\n",
    "    \n",
    "    if len(columns)==9:\n",
    "        columns.remove(columns[-1])\n",
    "    \n",
    "    spectral_idx.append(columns[-1])'''"
   ]
  },
  {
   "cell_type": "code",
   "execution_count": 244,
   "metadata": {},
   "outputs": [
    {
     "name": "stdout",
     "output_type": "stream",
     "text": [
      "12.498431001065951\n",
      "11.214603133830998\n"
     ]
    }
   ],
   "source": [
    "dist_max = 10185.42355352\n",
    "dist_min = 9132.09022019\n",
    "\n",
    "box_len = 2000\n",
    "\n",
    "theta_max = np.arctan((box_len/2)/dist_max)\n",
    "theta_min = np.arctan((box_len/2)/dist_min)\n",
    "\n",
    "angle_max = 2 * (theta_max*180/np.pi)\n",
    "angle_min = 2 * (theta_min*180/np.pi)\n",
    "\n",
    "print(angle_min)\n",
    "print(angle_max)"
   ]
  },
  {
   "cell_type": "code",
   "execution_count": 245,
   "metadata": {},
   "outputs": [
    {
     "data": {
      "text/plain": [
       "8"
      ]
     },
     "execution_count": 245,
     "metadata": {},
     "output_type": "execute_result"
    }
   ],
   "source": [
    "snr_in_5x5 = 1.5\n",
    "\n",
    "snr_in_angle = int(np.round((snr_in_5x5/25)*angle_max**2))\n",
    "snr_in_angle"
   ]
  },
  {
   "cell_type": "code",
   "execution_count": 246,
   "metadata": {},
   "outputs": [
    {
     "data": {
      "text/plain": [
       "[(48, 1147),\n",
       " (1586, 1737),\n",
       " (1537, 186),\n",
       " (897, 1097),\n",
       " (997, 1743),\n",
       " (1920, 831),\n",
       " (340, 1503),\n",
       " (117, 1674)]"
      ]
     },
     "execution_count": 246,
     "metadata": {},
     "output_type": "execute_result"
    }
   ],
   "source": [
    "grid = 2000\n",
    "\n",
    "canvas = np.zeros((grid, grid))\n",
    "\n",
    "random_points = [(random.randint(0, grid-1), random.randint(0, grid-1)) for _ in range(snr_in_angle)]\n",
    "random_points\n",
    "\n"
   ]
  },
  {
   "cell_type": "code",
   "execution_count": 247,
   "metadata": {},
   "outputs": [
    {
     "data": {
      "text/plain": [
       "303"
      ]
     },
     "execution_count": 247,
     "metadata": {},
     "output_type": "execute_result"
    }
   ],
   "source": [
    "amnt_of_samples = len(lines_val) # amount of specimen\n",
    "amnt_of_samples"
   ]
  },
  {
   "cell_type": "code",
   "execution_count": 248,
   "metadata": {},
   "outputs": [
    {
     "data": {
      "text/plain": [
       "[76, 133, 189, 80, 173, 72, 29, 147]"
      ]
     },
     "execution_count": 248,
     "metadata": {},
     "output_type": "execute_result"
    }
   ],
   "source": [
    "sample_idx = [random.randint(0, 302) for _ in range(snr_in_angle)]\n",
    "sample_idx"
   ]
  },
  {
   "cell_type": "code",
   "execution_count": 260,
   "metadata": {},
   "outputs": [
    {
     "name": "stdout",
     "output_type": "stream",
     "text": [
      "['28.6', '-0.1', '18 43 55', '-03 53', '13x9', 'S', '3', '']\n",
      "['78.2', '+2.1', '20 20 50', '+40 26', '60', 'S', '320', '0.51', 'DR4, gamma', 'Cygni', 'SNR']\n",
      "[' 292.2', '-0.5', '11 19 20', '-61 28', '20x15', 'S', '7', '0.5']\n",
      "['29.7', '-0.3', '18 46 25', '-02 59', '3', 'C', '10', '0.63', 'Kes 75']\n",
      "[' 205.5', '+0.5', '06 39 00', '+06 30', '220', 'S', '140', '0.4', 'Monoceros Nebula']\n",
      "['25.1', '-2.3', '18 45 10', '-08 00', '80x30', 'S', '8', '0.5']\n",
      "['9.8', '+0.6', '18 05 08', '-20 14', '12', 'S', '3.9', '0.5']\n",
      "[' 109.1', '-1.0', '23 01 35', '+58 53', '28', 'S', '20', '0.45', 'CTB 109']\n"
     ]
    }
   ],
   "source": [
    "a_values_list = []\n",
    "b_values_list = []\n",
    "flux_values_list = []\n",
    "\n",
    "for i in sample_idx:\n",
    "\n",
    "    test_line = lines_val[i]\n",
    "\n",
    "    if '?' in test_line:\n",
    "        test_line = test_line.replace('?','')\n",
    "\n",
    "\n",
    "    columns = re.split(r' {2,}| (?=[+ - S F C])', test_line)\n",
    "    if columns[0]=='':\n",
    "            columns.remove(columns[0])\n",
    "\n",
    "    print(columns)\n",
    "\n",
    "    ang_size = columns[4] \n",
    "    flux = columns[6]\n",
    "    \n",
    "    \n",
    "\n",
    "    if '>' in flux:\n",
    "        flux = flux.replace('>','')\n",
    "    \n",
    "    if flux.strip() == '':\n",
    "            flux = 7 # random value, can be substituted by mean/mode value from the column\n",
    "    \n",
    "    \n",
    "\n",
    "    if 'x' in ang_size:\n",
    "        a = float(ang_size.split('x')[0])\n",
    "        b = float(ang_size.split('x')[1])\n",
    "    else:\n",
    "        r = float(ang_size)\n",
    "        a = r\n",
    "        b = r\n",
    "\n",
    "    a_values_list.append(a/2)\n",
    "    b_values_list.append(b/2)\n",
    "    flux_values_list.append(float(flux))"
   ]
  },
  {
   "cell_type": "code",
   "execution_count": 264,
   "metadata": {},
   "outputs": [],
   "source": [
    "max_ang_res = []\n",
    "for i in range(len(a_values_list)):\n",
    "    max_ang_res.append(np.max((a_values_list[i], b_values_list[i])))\n",
    "\n"
   ]
  },
  {
   "cell_type": "code",
   "execution_count": 265,
   "metadata": {},
   "outputs": [
    {
     "name": "stdout",
     "output_type": "stream",
     "text": [
      "[6.5, 30.0, 10.0, 1.5, 110.0, 40.0, 6.0, 14.0]\n",
      "[4.5, 30.0, 7.5, 1.5, 110.0, 15.0, 6.0, 14.0]\n",
      "[3.0, 320.0, 7.0, 10.0, 140.0, 8.0, 3.9, 20.0]\n",
      "[6.5, 30.0, 10.0, 1.5, 110.0, 40.0, 6.0, 14.0]\n"
     ]
    }
   ],
   "source": [
    "print(a_values_list)\n",
    "print(b_values_list)\n",
    "print(flux_values_list)\n",
    "print(max_ang_res)"
   ]
  },
  {
   "cell_type": "code",
   "execution_count": 270,
   "metadata": {},
   "outputs": [],
   "source": [
    "def flux_to_brghtnss_temp(freq, flux, max_ang_res):\n",
    "    \"\"\"\n",
    "    freq in GHz\n",
    "    flux in mJy\n",
    "    max_and_res in arcsec\n",
    "    \"\"\"\n",
    "\n",
    "    flux = flux*1000 #from Jy to mJy\n",
    "    freq = freq*0.001 #from MHz to GHz\n",
    "    max_ang_res = np.array(max_ang_res*60) #from arcmin to arcsec\n",
    "\n",
    "    T = 1.222 * 10**3 * (flux/(freq**2 * max_ang_res**2)) # in K\n",
    "\n",
    "    return T"
   ]
  },
  {
   "cell_type": "code",
   "execution_count": 272,
   "metadata": {},
   "outputs": [
    {
     "name": "stdout",
     "output_type": "stream",
     "text": [
      "[  968.18721429  4848.10782857   954.47122875 60601.34785717\n",
      "   157.76383946    68.17651634  1477.15785402  1391.35747631]\n"
     ]
    }
   ],
   "source": [
    "T = flux_to_brghtnss_temp(157.78, np.array(flux_values_list), np.array(max_ang_res))\n",
    "print(T)"
   ]
  },
  {
   "cell_type": "code",
   "execution_count": 143,
   "metadata": {},
   "outputs": [
    {
     "data": {
      "image/png": "[encoded data removed]",
      "text/plain": [
       "<Figure size 640x480 with 2 Axes>"
      ]
     },
     "metadata": {},
     "output_type": "display_data"
    }
   ],
   "source": [
    "def draw_multiple_ellipses_on_grid(coordinates, a_values, b_values, angle_max, grid_size):\n",
    "    \"\"\"\n",
    "    Draw multiple ellipses on a grid.\n",
    "\n",
    "    :param coordinates: List of tuples (x, y) for the center of each ellipse.\n",
    "    :param a_values: List of semi-major axes in arcminutes for each ellipse.\n",
    "    :param b_values: List of semi-minor axes in arcminutes for each ellipse.\n",
    "    :param angle_max: Angular size of the canvas in degrees.\n",
    "    :param grid_size: Size of the grid.\n",
    "    :return: A grid with multiple ellipses drawn.\n",
    "    \"\"\"\n",
    "    # Convert the angular size of the canvas to arcminutes (1 degree = 60 arcminutes)\n",
    "    canvas_angular_size_arcminutes = angle_max * 60\n",
    "\n",
    "    # Scale factor: number of pixels per arcminute\n",
    "    scale_factor = grid_size / canvas_angular_size_arcminutes\n",
    "\n",
    "    # Create an empty grid\n",
    "    grid = np.zeros((grid_size, grid_size))\n",
    "\n",
    "    for (center_x, center_y), a, b in zip(coordinates, a_values, b_values):\n",
    "        # Convert ellipse dimensions to grid units\n",
    "        semi_major_axis_pixels = int(round(a * scale_factor))\n",
    "        semi_minor_axis_pixels = int(round(b * scale_factor))\n",
    "\n",
    "        # Calculate the range for the ellipse in both x and y directions\n",
    "        x_range = np.arange(center_x - semi_minor_axis_pixels, center_x + semi_minor_axis_pixels + 1)\n",
    "        y_range = np.arange(center_y - semi_major_axis_pixels, center_y + semi_major_axis_pixels + 1)\n",
    "\n",
    "        # Ensure the ranges are within the grid boundaries\n",
    "        x_range = x_range[(x_range >= 0) & (x_range < grid_size)]\n",
    "        y_range = y_range[(y_range >= 0) & (y_range < grid_size)]\n",
    "\n",
    "        # Fill pixels within the ellipse\n",
    "        for x_pixel in x_range:\n",
    "            for y_pixel in y_range:\n",
    "                if ((x_pixel - center_x)**2 / semi_minor_axis_pixels**2 + \n",
    "                    (y_pixel - center_y)**2 / semi_major_axis_pixels**2) <= 1:\n",
    "                    grid[y_pixel, x_pixel] = 1\n",
    "\n",
    "    return grid\n",
    "\n",
    "# Example usage with a list of coordinates and corresponding dimensions\n",
    "coordinates_list = random_points\n",
    "\n",
    "\n",
    "# Draw the ellipses\n",
    "multiple_ellipse_grid = draw_multiple_ellipses_on_grid(random_points, a_values_list, b_values_list, angle_max, grid)\n",
    "\n",
    "\n",
    "# Plotting\n",
    "plt.imshow(multiple_ellipse_grid, cmap='gray')\n",
    "plt.colorbar()\n",
    "plt.show()"
   ]
  },
  {
   "cell_type": "code",
   "execution_count": null,
   "metadata": {},
   "outputs": [],
   "source": []
  }
 ],
 "metadata": {
  "kernelspec": {
   "display_name": "cm21fast",
   "language": "python",
   "name": "python3"
  },
  "language_info": {
   "codemirror_mode": {
    "name": "ipython",
    "version": 3
   },
   "file_extension": ".py",
   "mimetype": "text/x-python",
   "name": "python",
   "nbconvert_exporter": "python",
   "pygments_lexer": "ipython3",
   "version": "3.11.6"
  },
  "orig_nbformat": 4
 },
 "nbformat": 4,
 "nbformat_minor": 2
}

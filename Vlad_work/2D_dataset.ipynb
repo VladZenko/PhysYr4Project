{
 "cells": [
  {
   "cell_type": "code",
   "execution_count": 1,
   "metadata": {},
   "outputs": [],
   "source": [
    "import sqlite3\n",
    "import numpy as np\n",
    "import matplotlib.pyplot as plt\n",
    "\n",
    "def extract_and_save_2d_slices(source_db_path, target_db_path, source_table_name='noises', target_table_name='slices_ns'):\n",
    "    # Connect to the source database\n",
    "    source_conn = sqlite3.connect(source_db_path)\n",
    "    source_cursor = source_conn.cursor()\n",
    "    \n",
    "    # Connect to the target database (this will create it if it doesn't exist)\n",
    "    target_conn = sqlite3.connect(target_db_path)\n",
    "    target_cursor = target_conn.cursor()\n",
    "    \n",
    "    # Create the target table if it doesn't exist\n",
    "    target_cursor.execute(f'''CREATE TABLE IF NOT EXISTS {target_table_name} (\n",
    "                              id INTEGER PRIMARY KEY,\n",
    "                              data BLOB\n",
    "                              )''')\n",
    "    \n",
    "    # Query to select all arrays from the source database\n",
    "    source_cursor.execute(f'SELECT id, data FROM {source_table_name}')\n",
    "    \n",
    "    for row in source_cursor.fetchall():\n",
    "        array_id, data = row\n",
    "        # Deserialize the 3D array data\n",
    "        array = np.frombuffer(data, dtype=np.float32).reshape((64, 64, 86))\n",
    "        \n",
    "        # Extract the first 2D slice\n",
    "        slice_2d = array[:, :, 0]  # Assuming you want the first slice along the third dimension\n",
    "        \n",
    "        # Serialize the 2D slice\n",
    "        slice_data = slice_2d.tobytes()\n",
    "        \n",
    "        # Insert the 2D slice into the target database\n",
    "        target_cursor.execute(f'INSERT INTO {target_table_name} (id, data) VALUES (?, ?)', (array_id, slice_data))\n",
    "    \n",
    "    # Commit changes and close connections\n",
    "    target_conn.commit()\n",
    "    source_conn.close()\n",
    "    target_conn.close()\n",
    "\n",
    "\n",
    "\n",
    "def count_samples_in_database(db_path, table_name='slices_lc'):\n",
    "    # Connect to the database\n",
    "    conn = sqlite3.connect(db_path)\n",
    "    cursor = conn.cursor()\n",
    "    \n",
    "    # Execute the count query\n",
    "    cursor.execute(f'SELECT COUNT(*) FROM {table_name}')\n",
    "    count = cursor.fetchone()[0]\n",
    "    \n",
    "    conn.close()\n",
    "    \n",
    "    print(f\"Number of samples in the database '{db_path}': {count}\")\n",
    "\n",
    "\n",
    "\n",
    "def print_sample_shape(db_path, sample_id, table_name='slices_lc'):\n",
    "    # Connect to the database\n",
    "    conn = sqlite3.connect(db_path)\n",
    "    cursor = conn.cursor()\n",
    "    \n",
    "    # Fetch a single sample by ID\n",
    "    cursor.execute(f'SELECT data FROM {table_name} WHERE id=?', (sample_id,))\n",
    "    data = cursor.fetchone()[0]\n",
    "    \n",
    "    # Deserialize the data\n",
    "    array = np.frombuffer(data, dtype=np.float32)\n",
    "    \n",
    "    # Assuming you know the original shape, or if the 2D slice is square (e.g., 64x64)\n",
    "    # If not, you would need to adjust the reshape method accordingly\n",
    "    shape = (64, 64)  # Adjust this based on your actual data shape\n",
    "    array = array.reshape(shape)\n",
    "    \n",
    "    print(f\"Shape of sample {sample_id}: {array.shape}\")\n",
    "    \n",
    "    conn.close()\n",
    "    return array\n",
    "\n",
    "\n"
   ]
  },
  {
   "cell_type": "code",
   "execution_count": 3,
   "metadata": {},
   "outputs": [],
   "source": [
    "source_db_path1 = 'databases/lightcones.db'\n",
    "target_db_path1 = 'databases/lightcones_2D.db'\n",
    "extract_and_save_2d_slices(source_db_path1, target_db_path1)\n",
    "\n"
   ]
  },
  {
   "cell_type": "code",
   "execution_count": 5,
   "metadata": {},
   "outputs": [],
   "source": [
    "source_db_path2 = 'databases/noises.db'\n",
    "target_db_path2 = 'databases/noises_2D.db'\n",
    "extract_and_save_2d_slices(source_db_path2, target_db_path2)"
   ]
  },
  {
   "cell_type": "code",
   "execution_count": 2,
   "metadata": {},
   "outputs": [
    {
     "name": "stdout",
     "output_type": "stream",
     "text": [
      "Number of samples in the database 'databases/lightcones_2D.db': 10001\n",
      "Shape of sample 1: (64, 64)\n"
     ]
    },
    {
     "data": {
      "image/png": "[encoded data removed]",
      "text/plain": [
       "<Figure size 640x480 with 2 Axes>"
      ]
     },
     "metadata": {},
     "output_type": "display_data"
    }
   ],
   "source": [
    "db_path = 'databases/lightcones_2D.db'  # Adjust this to your target database path\n",
    "count_samples_in_database(db_path)\n",
    "sample_id = 1  # Example sample ID, adjust as needed\n",
    "array = print_sample_shape(db_path, sample_id)\n",
    "plt.imshow(array, cmap='gray')  # Use an appropriate colormap for your data\n",
    "plt.colorbar()\n",
    "plt.show()"
   ]
  },
  {
   "cell_type": "code",
   "execution_count": null,
   "metadata": {},
   "outputs": [],
   "source": []
  }
 ],
 "metadata": {
  "kernelspec": {
   "display_name": "Python 3",
   "language": "python",
   "name": "python3"
  },
  "language_info": {
   "codemirror_mode": {
    "name": "ipython",
    "version": 3
   },
   "file_extension": ".py",
   "mimetype": "text/x-python",
   "name": "python",
   "nbconvert_exporter": "python",
   "pygments_lexer": "ipython3",
   "version": "3.10.5"
  }
 },
 "nbformat": 4,
 "nbformat_minor": 2
}
